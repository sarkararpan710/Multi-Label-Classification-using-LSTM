{
 "cells": [
  {
   "cell_type": "code",
   "execution_count": 1,
   "metadata": {},
   "outputs": [
    {
     "name": "stderr",
     "output_type": "stream",
     "text": [
      "D:\\Anaconda\\lib\\site-packages\\h5py\\__init__.py:34: FutureWarning: Conversion of the second argument of issubdtype from `float` to `np.floating` is deprecated. In future, it will be treated as `np.float64 == np.dtype(float).type`.\n",
      "  from ._conv import register_converters as _register_converters\n"
     ]
    }
   ],
   "source": [
    "import glob\n",
    "import os\n",
    "import librosa\n",
    "import librosa.display\n",
    "import matplotlib.pyplot as plt\n",
    "import tensorflow as tf\n",
    "import numpy as np\n",
    "%matplotlib inline\n",
    "plt.style.use('ggplot')"
   ]
  },
  {
   "cell_type": "code",
   "execution_count": 2,
   "metadata": {},
   "outputs": [],
   "source": [
    "def load_sound_files(parent_dir, file_paths):\n",
    "    raw_sounds = []\n",
    "    for fp in file_paths:\n",
    "        X,sr = librosa.load(parent_dir + fp)\n",
    "        raw_sounds.append(X)\n",
    "    return raw_sounds\n",
    "\n",
    "def plot_waves(sound_names,raw_sounds):\n",
    "    i = 1\n",
    "    fig = plt.figure(figsize=(25,10), dpi = 900)\n",
    "    for n,f in zip(sound_names,raw_sounds):\n",
    "        plt.subplot(2,5,i)\n",
    "        librosa.display.waveplot(np.array(f),sr=22050)\n",
    "        plt.title(n.title())\n",
    "        i += 1\n",
    "    plt.suptitle('Figure 1: Waveplot',x=0.5, y=0.95,fontsize=18)\n",
    "    plt.show()\n",
    "    \n",
    "def plot_specgram(sound_names,raw_sounds):\n",
    "    i = 1\n",
    "    fig = plt.figure(figsize=(25,10), dpi = 900)\n",
    "    for n,f in zip(sound_names,raw_sounds):\n",
    "        plt.subplot(2,5,i)\n",
    "        specgram(np.array(f), Fs=22050)\n",
    "        plt.title(n.title())\n",
    "        i += 1\n",
    "    plt.suptitle('Figure 2: Spectrogram',x=0.5, y=0.95,fontsize=18)\n",
    "    plt.show()\n",
    "\n",
    "def plot_log_power_specgram(sound_names,raw_sounds):\n",
    "    i = 1\n",
    "    fig = plt.figure(figsize=(25,10), dpi = 900)\n",
    "    for n,f in zip(sound_names,raw_sounds):\n",
    "        plt.subplot(2,5,i)\n",
    "        D = librosa.logamplitude(np.abs(librosa.stft(f))**2, ref_power=np.max)\n",
    "        librosa.display.specshow(D,x_axis='time' ,y_axis='log')\n",
    "        plt.title(n.title())\n",
    "        i += 1\n",
    "    plt.suptitle('Figure 3: Log power spectrogram',x=0.5, y=0.95,fontsize=18)\n",
    "    plt.show()"
   ]
  },
  {
   "cell_type": "code",
   "execution_count": 3,
   "metadata": {},
   "outputs": [],
   "source": [
    "sound_file_paths = [\"aircon.wav\", \"carhorn.wav\", \"play.wav\", \"dogbark.wav\", \"drill.wav\",\n",
    "                   \"engine.wav\",\"gunshots.wav\",\"jackhammer.wav\",\"siren.wav\",\"music.wav\"]\n",
    "sound_names = [\"air conditioner\",\"car horn\",\"children playing\",\"dog bark\",\"drilling\",\"engine idling\",\n",
    "               \"gun shot\",\"jackhammer\",\"siren\",\"street music\"]\n",
    "\n",
    "parent_dir = 'D://DataSets//ML_project//Samples//'\n",
    "\n",
    "raw_sounds = load_sound_files(parent_dir, sound_file_paths)"
   ]
  },
  {
   "cell_type": "markdown",
   "metadata": {},
   "source": [
    "I tried changing parameters for the mel bands and used 60 mel bands instead of 20 in the usual RNN as Music Classification uses 60 mel bands for feature extraction."
   ]
  },
  {
   "cell_type": "code",
   "execution_count": 4,
   "metadata": {},
   "outputs": [],
   "source": [
    "def windows(data, window_size):\n",
    "    start = 0\n",
    "    while start < len(data):\n",
    "        yield start, start + window_size\n",
    "        start += (window_size // 2)\n",
    "\n",
    "def extract_features(parent_dir,sub_dirs,file_ext=\"*.wav\",bands = 60, frames = 41):\n",
    "    window_size = 512 * (frames - 1)\n",
    "    mfccs = []\n",
    "    labels = []\n",
    "    for l, sub_dir in enumerate(sub_dirs):\n",
    "        for fn in glob.glob(os.path.join(parent_dir, sub_dir, file_ext)):\n",
    "            sound_clip,s = librosa.load(fn)\n",
    "            label = fn.split('fold')[1].split('-')[1]\n",
    "            for (start,end) in windows(sound_clip,window_size):\n",
    "                if(len(sound_clip[start:end]) == window_size):\n",
    "                    signal = sound_clip[start:end]\n",
    "                    mfcc = librosa.feature.mfcc(y=signal, sr=s, n_mfcc = bands).T.flatten()[:, np.newaxis].T\n",
    "                    mfccs.append(mfcc)\n",
    "                    labels.append(label)         \n",
    "    features = np.asarray(mfccs).reshape(len(mfccs),bands,frames)\n",
    "    return np.array(features), np.array(labels,dtype = np.int)\n",
    "\n",
    "def one_hot_encode(labels):\n",
    "    n_labels = len(labels)\n",
    "    n_unique_labels = len(np.unique(labels))\n",
    "    one_hot_encode = np.zeros((n_labels,n_unique_labels))\n",
    "    one_hot_encode[np.arange(n_labels), labels] = 1\n",
    "    return one_hot_encode"
   ]
  },
  {
   "cell_type": "code",
   "execution_count": 28,
   "metadata": {},
   "outputs": [
    {
     "name": "stdout",
     "output_type": "stream",
     "text": [
      "\n",
      "Saving fold1\n",
      "Features of fold1  =  (5446, 60, 41)\n",
      "Labels of fold1  =  (5446, 10)\n",
      "Saved D://DataSets//ML_project//us8k-np-rnn_60_mel_bands\\fold1_x.npy\n",
      "Saved D://DataSets//ML_project//us8k-np-rnn_60_mel_bands\\fold1_y.npy\n",
      "\n",
      "Saving fold2\n",
      "Features of fold2  =  (5388, 60, 41)\n",
      "Labels of fold2  =  (5388, 10)\n",
      "Saved D://DataSets//ML_project//us8k-np-rnn_60_mel_bands\\fold2_x.npy\n",
      "Saved D://DataSets//ML_project//us8k-np-rnn_60_mel_bands\\fold2_y.npy\n",
      "\n",
      "Saving fold3\n",
      "Features of fold3  =  (5852, 60, 41)\n",
      "Labels of fold3  =  (5852, 10)\n",
      "Saved D://DataSets//ML_project//us8k-np-rnn_60_mel_bands\\fold3_x.npy\n",
      "Saved D://DataSets//ML_project//us8k-np-rnn_60_mel_bands\\fold3_y.npy\n",
      "\n",
      "Saving fold4\n",
      "Features of fold4  =  (6048, 60, 41)\n",
      "Labels of fold4  =  (6048, 10)\n",
      "Saved D://DataSets//ML_project//us8k-np-rnn_60_mel_bands\\fold4_x.npy\n",
      "Saved D://DataSets//ML_project//us8k-np-rnn_60_mel_bands\\fold4_y.npy\n",
      "\n",
      "Saving fold5\n",
      "Features of fold5  =  (5689, 60, 41)\n",
      "Labels of fold5  =  (5689, 10)\n",
      "Saved D://DataSets//ML_project//us8k-np-rnn_60_mel_bands\\fold5_x.npy\n",
      "Saved D://DataSets//ML_project//us8k-np-rnn_60_mel_bands\\fold5_y.npy\n",
      "\n",
      "Saving fold6\n",
      "Features of fold6  =  (5080, 60, 41)\n",
      "Labels of fold6  =  (5080, 10)\n",
      "Saved D://DataSets//ML_project//us8k-np-rnn_60_mel_bands\\fold6_x.npy\n",
      "Saved D://DataSets//ML_project//us8k-np-rnn_60_mel_bands\\fold6_y.npy\n",
      "\n",
      "Saving fold7\n",
      "Features of fold7  =  (5277, 60, 41)\n",
      "Labels of fold7  =  (5277, 10)\n",
      "Saved D://DataSets//ML_project//us8k-np-rnn_60_mel_bands\\fold7_x.npy\n",
      "Saved D://DataSets//ML_project//us8k-np-rnn_60_mel_bands\\fold7_y.npy\n",
      "\n",
      "Saving fold8\n",
      "Features of fold8  =  (4942, 60, 41)\n",
      "Labels of fold8  =  (4942, 10)\n",
      "Saved D://DataSets//ML_project//us8k-np-rnn_60_mel_bands\\fold8_x.npy\n",
      "Saved D://DataSets//ML_project//us8k-np-rnn_60_mel_bands\\fold8_y.npy\n",
      "\n",
      "Saving fold9\n",
      "Features of fold9  =  (5118, 60, 41)\n",
      "Labels of fold9  =  (5118, 10)\n",
      "Saved D://DataSets//ML_project//us8k-np-rnn_60_mel_bands\\fold9_x.npy\n",
      "Saved D://DataSets//ML_project//us8k-np-rnn_60_mel_bands\\fold9_y.npy\n",
      "\n",
      "Saving fold10\n",
      "Features of fold10  =  (5218, 60, 41)\n",
      "Labels of fold10  =  (5218, 10)\n",
      "Saved D://DataSets//ML_project//us8k-np-rnn_60_mel_bands\\fold10_x.npy\n",
      "Saved D://DataSets//ML_project//us8k-np-rnn_60_mel_bands\\fold10_y.npy\n"
     ]
    }
   ],
   "source": [
    "# use this to process the audio files into numpy arrays\n",
    "def save_folds(data_dir):\n",
    "    for k in range(1,11):\n",
    "        fold_name = 'fold' + str(k)\n",
    "        print(\"\\nSaving \" + fold_name)\n",
    "        features, labels = extract_features(parent_dir, [fold_name])\n",
    "        labels = one_hot_encode(labels)\n",
    "        \n",
    "        print(\"Features of\", fold_name , \" = \", features.shape)\n",
    "        print(\"Labels of\", fold_name , \" = \", labels.shape)\n",
    "        \n",
    "        feature_file = os.path.join(data_dir, fold_name + '_x.npy')\n",
    "        labels_file = os.path.join(data_dir, fold_name + '_y.npy')\n",
    "        np.save(feature_file, features)\n",
    "        print(\"Saved \" + feature_file)\n",
    "        np.save(labels_file, labels)\n",
    "        print(\"Saved \" + labels_file)\n",
    "\n",
    "def assure_path_exists(path):\n",
    "    mydir = os.path.join(os.getcwd(), path)\n",
    "    if not os.path.exists(mydir):\n",
    "        os.makedirs(mydir)\n",
    "        \n",
    "# uncomment this to recreate and save the feature vectors\n",
    "parent_dir = \"D://MachineLearningProjects//Multilabel_Audio_Classification//UrbanSound8K//audio\" # Where you have saved the UrbanSound8K data set\"       \n",
    "save_dir = \"D://MachineLearningProjects//Multilabel_Audio_Classification//us8k-np-rnn_60_mel_bands\"\n",
    "assure_path_exists(save_dir)\n",
    "save_folds(save_dir)"
   ]
  },
  {
   "cell_type": "code",
   "execution_count": 5,
   "metadata": {},
   "outputs": [],
   "source": [
    "# this is used to load the folds incrementally\n",
    "def load_folds(folds):\n",
    "    subsequent_fold = False\n",
    "    for k in range(len(folds)):\n",
    "        fold_name = 'fold' + str(folds[k])\n",
    "        feature_file = os.path.join(data_dir, fold_name + '_x.npy')\n",
    "        labels_file = os.path.join(data_dir, fold_name + '_y.npy')\n",
    "        loaded_features = np.load(feature_file)\n",
    "        loaded_labels = np.load(labels_file)\n",
    "        print (fold_name, \"features: \", loaded_features.shape)\n",
    "\n",
    "        if subsequent_fold:\n",
    "            features = np.concatenate((features, loaded_features))\n",
    "            labels = np.concatenate((labels, loaded_labels))\n",
    "        else:\n",
    "            features = loaded_features\n",
    "            labels = loaded_labels\n",
    "            subsequent_fold = True\n",
    "        \n",
    "    return features, labels"
   ]
  },
  {
   "cell_type": "code",
   "execution_count": 6,
   "metadata": {},
   "outputs": [
    {
     "name": "stdout",
     "output_type": "stream",
     "text": [
      "IN: Initial Data Points = 88200\n",
      "OUT: Total features = (7, 60, 41)\n"
     ]
    }
   ],
   "source": [
    "data_dir = \"D://MachineLearningProjects//Multilabel_Audio_Classification//us8k-np-rnn_60_mel_bands\"\n",
    "\n",
    "def extract_feature_array(filename, bands = 60, frames = 41):\n",
    "    window_size = 512 * (frames - 1)\n",
    "    mfccs = []\n",
    "    sound_clip,s = librosa.load(filename)\n",
    "    for (start,end) in windows(sound_clip,window_size):\n",
    "        if(len(sound_clip[start:end]) == window_size):\n",
    "            signal = sound_clip[start:end]\n",
    "            mfcc = librosa.feature.mfcc(y=signal, sr=s, n_mfcc = bands).T.flatten()[:, np.newaxis].T\n",
    "            mfccs.append(mfcc)\n",
    "            \n",
    "    features = np.asarray(mfccs).reshape(len(mfccs),bands,frames)\n",
    "    return np.array(features)\n",
    "\n",
    "sample_filename = \"D://MachineLearningProjects//Multilabel_Audio_Classification//Samples//music.wav\"\n",
    "features = extract_feature_array(sample_filename)\n",
    "data_points, _ = librosa.load(sample_filename)\n",
    "print (\"IN: Initial Data Points =\", len(data_points))\n",
    "print (\"OUT: Total features =\", np.shape(features))"
   ]
  },
  {
   "cell_type": "code",
   "execution_count": 8,
   "metadata": {},
   "outputs": [],
   "source": [
    "tf.set_random_seed(0)\n",
    "np.random.seed(0)\n",
    "\n",
    "def evaluate(model):\n",
    "    y_prob = model.predict_proba(test_x, verbose=0)\n",
    "    y_pred = y_prob.argmax(axis=-1)\n",
    "    y_true = np.argmax(test_y, 1)\n",
    "\n",
    "    roc = roc_auc_score(test_y, y_prob)\n",
    "    print (\"ROC:\",  round(roc,3))\n",
    "\n",
    "    # evaluate the model\n",
    "    score, accuracy = model.evaluate(test_x, test_y, batch_size=32)\n",
    "    print(\"\\nAccuracy = {:.2f}\".format(accuracy))\n",
    "\n",
    "    # the F-score gives a similiar value to the accuracy score, but useful for cross-checking\n",
    "    p,r,f,s = precision_recall_fscore_support(y_true, y_pred, average='micro')\n",
    "    print (\"F-Score:\", round(f,2))\n",
    "    \n",
    "    return roc, accuracy"
   ]
  },
  {
   "cell_type": "code",
   "execution_count": 36,
   "metadata": {},
   "outputs": [
    {
     "name": "stdout",
     "output_type": "stream",
     "text": [
      "fold1 features:  (5446, 60, 41)\n",
      "fold2 features:  (5388, 60, 41)\n",
      "fold3 features:  (5852, 60, 41)\n",
      "fold4 features:  (6048, 60, 41)\n",
      "fold5 features:  (5689, 60, 41)\n",
      "fold6 features:  (5080, 60, 41)\n",
      "fold9 features:  (5118, 60, 41)\n",
      "fold10 features:  (5218, 60, 41)\n"
     ]
    },
    {
     "name": "stderr",
     "output_type": "stream",
     "text": [
      "D:\\Anaconda\\lib\\site-packages\\keras\\models.py:939: UserWarning: The `nb_epoch` argument in `fit` has been renamed `epochs`.\n",
      "  warnings.warn('The `nb_epoch` argument in `fit` '\n"
     ]
    },
    {
     "name": "stdout",
     "output_type": "stream",
     "text": [
      "Train on 33503 samples, validate on 5118 samples\n",
      "Epoch 1/10\n",
      "33503/33503 [==============================] - 182s 5ms/step - loss: 0.8295 - acc: 0.7205 - val_loss: 1.8951 - val_acc: 0.5645\n",
      "Epoch 2/10\n",
      "33503/33503 [==============================] - 181s 5ms/step - loss: 0.4174 - acc: 0.8563 - val_loss: 1.9414 - val_acc: 0.5494\n",
      "Epoch 00002: early stopping\n"
     ]
    },
    {
     "data": {
      "text/plain": [
       "<keras.callbacks.History at 0x2aa90023940>"
      ]
     },
     "execution_count": 36,
     "metadata": {},
     "output_type": "execute_result"
    }
   ],
   "source": [
    "from keras.models import Sequential\n",
    "from keras.layers import LSTM, Dense, Dropout\n",
    "from sklearn.metrics import precision_recall_fscore_support, roc_auc_score\n",
    "from keras.utils import np_utils\n",
    "from keras.callbacks import EarlyStopping\n",
    "\n",
    "data_dim = 41\n",
    "timesteps = 60\n",
    "num_classes = 10\n",
    "\n",
    "# expected input data shape: (batch_size, timesteps, data_dim)\n",
    "model = Sequential()\n",
    "\n",
    "# returns a sequence of vectors of dimension 256\n",
    "model.add(LSTM(256, return_sequences=True, input_shape=(timesteps, data_dim)))  \n",
    "\n",
    "model.add(Dropout(0.1))\n",
    "\n",
    "# return a single vector of dimension 128\n",
    "model.add(LSTM(128))  \n",
    "\n",
    "model.add(Dropout(0.1))\n",
    "\n",
    "\n",
    "# apply softmax to output\n",
    "model.add(Dense(num_classes, activation='softmax'))\n",
    "\n",
    "\n",
    "# compile the model for multi-class classification\n",
    "model.compile(loss='categorical_crossentropy', optimizer='adam', metrics=['accuracy'])\n",
    "\n",
    "# load fold1 for testing\n",
    "train_x, train_y = load_folds([1,2,3,4,5,6])\n",
    "\n",
    "# load fold2 for validation\n",
    "valid_x, valid_y = load_folds([9])\n",
    "    \n",
    "# loading folds for testing\n",
    "test_x, test_y = load_folds([10])\n",
    "\n",
    "# a stopping function to stop training before we excessively overfit to the training set\n",
    "earlystop = EarlyStopping(monitor='val_loss', patience=0, verbose=1, mode='auto')\n",
    "\n",
    "model.fit(train_x, train_y, batch_size=128, nb_epoch=10, callbacks=[earlystop], validation_data=(valid_x, valid_y))"
   ]
  },
  {
   "cell_type": "code",
   "execution_count": 37,
   "metadata": {},
   "outputs": [
    {
     "name": "stdout",
     "output_type": "stream",
     "text": [
      "Evaluating model...\n",
      "ROC: 0.892\n",
      "5218/5218 [==============================] - 12s 2ms/step\n",
      "\n",
      "Accuracy = 0.54\n",
      "F-Score: 0.54\n"
     ]
    }
   ],
   "source": [
    "# now evaluate the trained model against the unseen test data\n",
    "print(\"Evaluating model...\")\n",
    "roc, acc = evaluate(model)"
   ]
  },
  {
   "cell_type": "code",
   "execution_count": 43,
   "metadata": {},
   "outputs": [
    {
     "name": "stdout",
     "output_type": "stream",
     "text": [
      "fold1 features:  (5446, 60, 41)\n",
      "fold2 features:  (5388, 60, 41)\n",
      "fold3 features:  (5852, 60, 41)\n",
      "fold4 features:  (6048, 60, 41)\n",
      "fold5 features:  (5689, 60, 41)\n",
      "fold6 features:  (5080, 60, 41)\n",
      "fold9 features:  (5118, 60, 41)\n",
      "fold10 features:  (5218, 60, 41)\n"
     ]
    },
    {
     "name": "stderr",
     "output_type": "stream",
     "text": [
      "D:\\Anaconda\\lib\\site-packages\\keras\\models.py:939: UserWarning: The `nb_epoch` argument in `fit` has been renamed `epochs`.\n",
      "  warnings.warn('The `nb_epoch` argument in `fit` '\n"
     ]
    },
    {
     "name": "stdout",
     "output_type": "stream",
     "text": [
      "Train on 33503 samples, validate on 5118 samples\n",
      "Epoch 1/10\n",
      "33503/33503 [==============================] - 210s 6ms/step - loss: 0.7840 - acc: 0.7387 - val_loss: 2.1272 - val_acc: 0.5018\n",
      "Epoch 2/10\n",
      "33503/33503 [==============================] - 195s 6ms/step - loss: 0.3858 - acc: 0.8715 - val_loss: 2.2428 - val_acc: 0.5318\n",
      "Epoch 00002: early stopping\n"
     ]
    },
    {
     "data": {
      "text/plain": [
       "<keras.callbacks.History at 0x2aab049d860>"
      ]
     },
     "execution_count": 43,
     "metadata": {},
     "output_type": "execute_result"
    }
   ],
   "source": [
    "from keras.models import Sequential\n",
    "from keras.layers import LSTM, Dense, Dropout\n",
    "from sklearn.metrics import precision_recall_fscore_support, roc_auc_score\n",
    "from keras.utils import np_utils\n",
    "from keras.callbacks import EarlyStopping\n",
    "\n",
    "data_dim = 41\n",
    "timesteps = 60\n",
    "num_classes = 10\n",
    "\n",
    "# expected input data shape: (batch_size, timesteps, data_dim)\n",
    "model = Sequential()\n",
    "\n",
    "# returns a sequence of vectors of dimension 256\n",
    "model.add(LSTM(256, return_sequences=True, input_shape=(timesteps, data_dim)))  \n",
    "\n",
    "model.add(Dropout(0.1))\n",
    "\n",
    "# return a single vector of dimension 128\n",
    "model.add(LSTM(128))  \n",
    "\n",
    "model.add(Dropout(0.1))\n",
    "\n",
    "\n",
    "# apply softmax to output\n",
    "model.add(Dense(num_classes, activation='softmax'))\n",
    "\n",
    "\n",
    "# compile the model for multi-class classification\n",
    "model.compile(loss='categorical_crossentropy', optimizer='adam', metrics=['accuracy'])\n",
    "\n",
    "# load fold1 for testing\n",
    "train_x, train_y = load_folds([1,2,3,4,5,6])\n",
    "\n",
    "# load fold2 for validation\n",
    "valid_x, valid_y = load_folds([9])\n",
    "    \n",
    "# loading folds for testing\n",
    "test_x, test_y = load_folds([10])\n",
    "\n",
    "# a stopping function to stop training before we excessively overfit to the training set\n",
    "earlystop = EarlyStopping(monitor='val_loss', patience=0, verbose=1, mode='auto')\n",
    "\n",
    "model.fit(train_x, train_y, batch_size=128, nb_epoch=10, callbacks=[earlystop], validation_data=(valid_x, valid_y))"
   ]
  },
  {
   "cell_type": "code",
   "execution_count": 44,
   "metadata": {},
   "outputs": [
    {
     "name": "stdout",
     "output_type": "stream",
     "text": [
      "Evaluating model...\n",
      "ROC: 0.901\n",
      "5218/5218 [==============================] - 12s 2ms/step\n",
      "\n",
      "Accuracy = 0.53\n",
      "F-Score: 0.53\n"
     ]
    }
   ],
   "source": [
    "# now evaluate the trained model against the unseen test data\n",
    "print(\"Evaluating model...\")\n",
    "roc, acc = evaluate(model)"
   ]
  },
  {
   "cell_type": "code",
   "execution_count": 39,
   "metadata": {},
   "outputs": [
    {
     "name": "stdout",
     "output_type": "stream",
     "text": [
      "Showing Confusion Matrix\n"
     ]
    },
    {
     "data": {
      "text/plain": [
       "<matplotlib.axes._subplots.AxesSubplot at 0x2aa85b346d8>"
      ]
     },
     "execution_count": 39,
     "metadata": {},
     "output_type": "execute_result"
    },
    {
     "data": {
      "image/png": "[encoded data removed]",
      "text/plain": [
       "<matplotlib.figure.Figure at 0x2aa85c91da0>"
      ]
     },
     "metadata": {},
     "output_type": "display_data"
    }
   ],
   "source": [
    "from sklearn.metrics import confusion_matrix\n",
    "import seaborn as sn\n",
    "import pandas as pd\n",
    "\n",
    "labels = [\"air-con\",\"horn\",\"children\",\"dog\",\"drill\",\"engine\",\"gun\",\"hammer\",\"siren\",\"music\"]\n",
    "print (\"Showing Confusion Matrix\")\n",
    "y_prob = model.predict_proba(test_x, verbose=0)\n",
    "y_pred = y_prob.argmax(axis=-1)\n",
    "y_true = np.argmax(test_y, 1)\n",
    "cm = confusion_matrix(y_true, y_pred)\n",
    "\n",
    "df_cm = pd.DataFrame(cm, labels, labels)\n",
    "plt.figure(figsize = (16,8))\n",
    "sn.heatmap(df_cm, annot=True, annot_kws={\"size\": 14}, fmt='g', linewidths=.5, )"
   ]
  },
  {
   "cell_type": "code",
   "execution_count": 42,
   "metadata": {},
   "outputs": [
    {
     "name": "stdout",
     "output_type": "stream",
     "text": [
      "\n",
      "-----  air conditioner -----\n",
      "Top guess:  air conditioner  ( 0.995 )\n",
      "2nd guess:  street music  ( 0.002 )\n",
      "\n",
      "-----  car horn -----\n",
      "Top guess:  car horn  ( 0.967 )\n",
      "2nd guess:  street music  ( 0.021 )\n",
      "\n",
      "-----  children playing -----\n",
      "Top guess:  children playing  ( 0.529 )\n",
      "2nd guess:  dog bark  ( 0.208 )\n",
      "\n",
      "-----  dog bark -----\n",
      "Top guess:  dog bark  ( 0.991 )\n",
      "2nd guess:  gun shot  ( 0.004 )\n",
      "\n",
      "-----  drilling -----\n",
      "Top guess:  drilling  ( 0.989 )\n",
      "2nd guess:  jackhammer  ( 0.008 )\n",
      "\n",
      "-----  engine idling -----\n",
      "Top guess:  engine idling  ( 0.99 )\n",
      "2nd guess:  jackhammer  ( 0.004 )\n",
      "\n",
      "-----  gun shot -----\n",
      "Top guess:  gun shot  ( 0.606 )\n",
      "2nd guess:  air conditioner  ( 0.172 )\n",
      "\n",
      "-----  jackhammer -----\n",
      "Top guess:  jackhammer  ( 0.99 )\n",
      "2nd guess:  air conditioner  ( 0.006 )\n",
      "\n",
      "-----  siren -----\n",
      "Top guess:  siren  ( 0.935 )\n",
      "2nd guess:  children playing  ( 0.049 )\n",
      "\n",
      "-----  street music -----\n",
      "Top guess:  street music  ( 0.684 )\n",
      "2nd guess:  jackhammer  ( 0.146 )\n"
     ]
    }
   ],
   "source": [
    "sound_file_paths = [\"aircon.wav\", \"carhorn.wav\", \"play.wav\", \"dogbark.wav\", \"drill.wav\",\n",
    "                    \"engine.wav\",\"gunshots.wav\",\"jackhammer.wav\",\"siren.wav\",\"music.wav\"]\n",
    "sound_names = [\"air conditioner\",\"car horn\",\"children playing\",\"dog bark\",\"drilling\",\"engine idling\",\n",
    "               \"gun shot\",\"jackhammer\",\"siren\",\"street music\"]\n",
    "parent_dir = 'D://DataSets//ML_project//Samples//'\n",
    "\n",
    "\n",
    "# create predictions for each of the sound classes\n",
    "for s in range(len(sound_names)):\n",
    "\n",
    "    print (\"\\n----- \", sound_names[s], \"-----\")\n",
    "    # load audio file and extract features\n",
    "    predict_file = parent_dir + sound_file_paths[s]\n",
    "    predict_x = extract_feature_array(predict_file)\n",
    "    \n",
    "    # generate prediction, passing in just a single row of features\n",
    "    predictions = model.predict(predict_x)\n",
    "    \n",
    "    if len(predictions) == 0: \n",
    "        print (\"No prediction\")\n",
    "        continue\n",
    "    \n",
    "    #for i in range(len(predictions[0])):\n",
    "    #    print sound_names[i], \"=\", round(predictions[0,i] * 100, 1)\n",
    "    \n",
    "    # get the indices of the top 2 predictions, invert into descending order\n",
    "    ind = np.argpartition(predictions[0], -2)[-2:]\n",
    "    ind[np.argsort(predictions[0][ind])]\n",
    "    ind = ind[::-1]\n",
    "    \n",
    "    print (\"Top guess: \", sound_names[ind[0]], \" (\",round(predictions[0,ind[0]],3),\")\")\n",
    "    print (\"2nd guess: \", sound_names[ind[1]], \" (\",round(predictions[0,ind[1]],3),\")\")"
   ]
  },
  {
   "cell_type": "code",
   "execution_count": null,
   "metadata": {},
   "outputs": [],
   "source": []
  }
 ],
 "metadata": {
  "kernelspec": {
   "display_name": "Python 3",
   "language": "python",
   "name": "python3"
  },
  "language_info": {
   "codemirror_mode": {
    "name": "ipython",
    "version": 3
   },
   "file_extension": ".py",
   "mimetype": "text/x-python",
   "name": "python",
   "nbconvert_exporter": "python",
   "pygments_lexer": "ipython3",
   "version": "3.6.1"
  }
 },
 "nbformat": 4,
 "nbformat_minor": 2
}
